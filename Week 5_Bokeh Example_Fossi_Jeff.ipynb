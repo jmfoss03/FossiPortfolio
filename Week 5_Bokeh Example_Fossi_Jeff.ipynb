{
 "cells": [
  {
   "cell_type": "markdown",
   "id": "e8d503a7",
   "metadata": {},
   "source": [
    "### Getting Started \n",
    "\n",
    "Bokeh is an interactive Python library  for visualizations that targets modern web browsers for \n",
    "presentation. Its goal is to provide elegant, concise construction of novel graphics in the style of \n",
    "D3.js, and to extend this capability  with high-performance interactivity over very large or \n",
    "streaming datasets. Bokeh can help anyone who would like to quickly and easily create \n",
    "interactive plots, dashboards, and data applications.  \n",
    "\n",
    "• To get started using Bokeh to make your visualizations,  see the  User Guide. \n",
    "\n",
    "• To see examples of how you might use Bokeh with your own data, check out the  Gallery. \n",
    "\n",
    "• A complete API reference of Bokeh is at Reference Guide. \n",
    "\n",
    "The following notebook is intended to illustrate some of Bokeh’s interactive utilities and is \n",
    "based on a post originally  done by my friend Sarah Bird, who is an incredible software engineer \n",
    "and a core developer for the Bokeh library. After seeing Sarah present her demo at  PyData \n",
    "Carolinas  2016,  I was excited to reimplement it for use in teaching my Visual Analytics students \n",
    "how to create interactive visualizations  with Python. You can also find a Jupyter notebook \n",
    "version of this post in our course repo on GitHub. \n",
    "\n",
    "#### Recreating Gapminder’s “The Health and Wealth of Nations” \n",
    "\n",
    "Gapminder started as a spin-off from Professor Hans Rosling’s teaching at the Karolinska \n",
    "Institute in Stockholm. Having encountered broad ignorance about the rapid health \n",
    "improvement in Asia, he wanted to measure that lack of awareness among students and \n",
    "professors. He presented the surprising  results from his so-called “Chimpanzee Test” in his first \n",
    "TED-talk in 2006. \n",
    "\n",
    "Rosling’s interactive “Health and Wealth of Nations” visualization  has since become an iconic \n",
    "illustration of how our assumptions about ‘first world’ and ‘third world’ countries can betray us. \n",
    "Mike Bostock has recreated the visualization  using D3.js, and it’s also be recreated using R with \n",
    "GoogleVis and even SAS. In this post, we will  see that it is also possible to use Bokeh to recreate \n",
    "the interactive visualization  in Python. \n",
    "\n",
    "#### About Bokeh Widgets \n",
    "\n",
    "Widgets are interactive controls  that can be added to Bokeh applications  to provide a front end \n",
    "user interface to a visualization. They can drive new computations, update plots, and connect \n",
    "to other programmatic  functionality. When used with the  Bokeh server, widgets can run \n",
    "arbitrary  Python code, enabling complex applications.  Widgets can also be used without the \n",
    "Bokeh server in standalone HTML documents through the browser’s Javascript runtime. \n",
    "To use widgets, you must add them to your document and define their functionality. Widgets \n",
    "can be added directly to the document root or nested inside a layout. There are two ways to \n",
    "program a widget’s functionality: \n",
    "\n",
    "• Use the CustomJS callback  (see  CustomJS for Widgets. This will work in standalone \n",
    "HTML documents. \n",
    "\n",
    "• Use bokeh serve to start the Bokeh server and set up event handlers \n",
    "with .on_change (or for some widgets, .on_click). \n",
    "\n",
    "#### Imports "
   ]
  },
  {
   "cell_type": "code",
   "execution_count": 1,
   "id": "10ecf6d7",
   "metadata": {},
   "outputs": [],
   "source": [
    "import numpy as np\n",
    "import pandas as pd\n",
    "\n",
    "from bokeh.layouts import layout\n",
    "from bokeh.embed import file_html\n",
    "\n",
    "from bokeh.io import show\n",
    "from bokeh.io import output_notebook \n",
    "\n",
    "from bokeh.models import Text\n",
    "from bokeh.models import Plot\n",
    "from bokeh.models import Slider\n",
    "from bokeh.models import Circle\n",
    "from bokeh.models import Range1d\n",
    "from bokeh.models import CustomJS\n",
    "from bokeh.models import HoverTool\n",
    "from bokeh.models import LinearAxis\n",
    "from bokeh.models import ColumnDataSource\n",
    "from bokeh.models import SingleIntervalTicker\n",
    "\n",
    "from bokeh.palettes import Spectral6"
   ]
  },
  {
   "cell_type": "markdown",
   "id": "4e6fd7b5",
   "metadata": {},
   "source": [
    "If you’re doing this in a Jupyter notebook, use the output_notebook() function from bokeh.io \n",
    "to display Bokeh plots inline. When show() is called, the plot will  be displayed inline in the next \n",
    "notebook output cell. To save your Bokeh plots, you can use the  output_file() function \n",
    "instead (or in addition). \n",
    "\n",
    "#### Get the data \n",
    "\n",
    "Some of Bokeh examples rely on sample data that is not included in the B okeh GitHub \n",
    "repository or released packages, due to their size. Once Bokeh is installed, the sample data can \n",
    "be obtained by executing: "
   ]
  },
  {
   "cell_type": "code",
   "execution_count": 2,
   "id": "5d135c3f",
   "metadata": {},
   "outputs": [],
   "source": [
    "import bokeh.sampledata \n",
    "# bokeh.sampledata.download() "
   ]
  },
  {
   "cell_type": "markdown",
   "id": "618b31b7",
   "metadata": {},
   "source": [
    "*Note, you only need to run the download command once. Comment the line out after you \n",
    "have run it* \n",
    "\n",
    "#### Prepare the data \n",
    "\n",
    "In order to create an interactive plot in Bokeh, we need to animate snapshots of the data over \n",
    "time from 1964  to 2013.  In order to do this, we can think of each year as a separate static plot. \n",
    "We can then use a JavaScript  Callback to change the data source that is driving the plot. \n",
    "\n",
    "JavaScript  Callbacks \n",
    "\n",
    "Bokeh exposes various callbacks, which can be specified from Python, that trigger actions inside \n",
    "the browser’s JavaScript runtime. This kind of JavaScript callback can be used to add interesting \n",
    "interactions to Bokeh documents without the need to use a Bokeh server (but can also be used \n",
    "in conjunction with a Bokeh server). Custom callbacks  can be set using a  CustomJS object and \n",
    "passing it as the callback  argument to a  Widget object. \n",
    "As the data we will be using today is not too big, we can pass all  the datasets to the JavaScript \n",
    "at once and switch between them on the client side using a slider widget.  \n",
    "This means that we need to put all  the datasets together build a single data source for each \n",
    "year. First we will  load each of the datasets with the  process_data() function and do a bit of \n",
    "clean up: "
   ]
  },
  {
   "cell_type": "code",
   "execution_count": 3,
   "id": "91b6a4ad",
   "metadata": {},
   "outputs": [],
   "source": [
    "def process_data(): \n",
    "    from bokeh.sampledata.gapminder import regions \n",
    "    from bokeh.sampledata.gapminder import fertility \n",
    "    from bokeh.sampledata.gapminder import population \n",
    "    from bokeh.sampledata.gapminder import life_expectancy\n",
    " \n",
    "    # Make the column names ints not strings for handling \n",
    "    columns     = list(fertility.columns) \n",
    "    years       = list(range(int(columns[0]), int(columns[-1]))) \n",
    "    rename_dict = dict(zip(columns, years)) \n",
    "    \n",
    "    fertility   = fertility.rename(columns=rename_dict) \n",
    "    life_expect = life_expectancy.rename(columns=rename_dict) \n",
    "    population  = population.rename(columns=rename_dict) \n",
    "    regions     = regions.rename(columns=rename_dict) \n",
    " \n",
    "    # Turn population into bubble sizes. \n",
    "    # Use min_size and factor to tweak. \n",
    "    scaling  = 200 \n",
    "    pop_size = np.sqrt(population / np.pi) / scaling \n",
    "    min_size = 3 \n",
    "    pop_size = pop_size.where( \n",
    "                  pop_size >= min_size \n",
    "                  ).fillna(min_size) \n",
    " \n",
    "    # Use pandas categories and categorize & color the regions \n",
    "    regions.Group = regions.Group.astype('category') \n",
    "    regions_list  = list(regions.Group.cat.categories) \n",
    " \n",
    "    def get_color(r): \n",
    "        return Spectral6[regions_list.index(r.Group)] \n",
    " \n",
    "    regions['region_color'] = regions.apply(get_color, axis=1) \n",
    " \n",
    "    return (fertility, life_expect, pop_size, \n",
    "        regions, years, regions_list) "
   ]
  },
  {
   "cell_type": "markdown",
   "id": "85432800",
   "metadata": {},
   "source": [
    "Next we will add each of our sources to the  sources dictionary, where each key is the name of \n",
    "the year (prefaced with an underscore) and each value is a dataframe with the aggregated \n",
    "values for that year.\n",
    "\n",
    "Note that we needed the prefixing as JavaScript obj ects cannot begin with a number. "
   ]
  },
  {
   "cell_type": "code",
   "execution_count": 4,
   "id": "d9fc06e5",
   "metadata": {},
   "outputs": [],
   "source": [
    "(fertility_df, life_expect_df, \n",
    "pop_size_df, regions_df, years, regions) = process_data() \n",
    " \n",
    "sources = {} \n",
    " \n",
    "region_color      = regions_df['region_color'] \n",
    "region_color.name = 'region_color' \n",
    " \n",
    "for year in years: \n",
    "    fertility       = fertility_df[year] \n",
    "    fertility.name  = 'fertility' \n",
    "    life            = life_expect_df[year] \n",
    "    life.name       = 'life' \n",
    "    population      = pop_size_df[year] \n",
    "    population.name = 'population' \n",
    " \n",
    "    new_df = pd.concat( \n",
    "                [fertility, life, population, region_color], \n",
    "                axis=1 \n",
    "    ) \n",
    "    sources['_' + str(year)] = ColumnDataSource(new_df) "
   ]
  },
  {
   "cell_type": "markdown",
   "id": "2deeee9f",
   "metadata": {},
   "source": [
    "Later we will  be able to pass this  sources dictionary to the JavaScript Callback.  In so doing, we \n",
    "will find that in our JavaScript we have objects named by year that refer to a \n",
    "corresponding ColumnDataSource. \n",
    "\n",
    "We can also create a corresponding  dict_of_sources object, where the keys are integers and \n",
    "the values are the references to our ColumnDataSources from above:  "
   ]
  },
  {
   "cell_type": "code",
   "execution_count": 5,
   "id": "37e9a558",
   "metadata": {},
   "outputs": [],
   "source": [
    "dict_of_sources = dict(zip( \n",
    "                      [x for x in years], \n",
    "                      ['_%s' % x for x in years]) \n",
    "                      ) "
   ]
  },
  {
   "cell_type": "code",
   "execution_count": 6,
   "id": "54078858",
   "metadata": {},
   "outputs": [
    {
     "data": {
      "text/plain": [
       "'{1964: _1964, 1965: _1965, 1966: _1966, 1967: _1967, 1968: _1968, 1969: _1969, 1970: _1970, 1971: _1971, 1972: _1972, 1973: _1973, 1974: _1974, 1975: _1975, 1976: _1976, 1977: _1977, 1978: _1978, 1979: _1979, 1980: _1980, 1981: _1981, 1982: _1982, 1983: _1983, 1984: _1984, 1985: _1985, 1986: _1986, 1987: _1987, 1988: _1988, 1989: _1989, 1990: _1990, 1991: _1991, 1992: _1992, 1993: _1993, 1994: _1994, 1995: _1995, 1996: _1996, 1997: _1997, 1998: _1998, 1999: _1999, 2000: _2000, 2001: _2001, 2002: _2002, 2003: _2003, 2004: _2004, 2005: _2005, 2006: _2006, 2007: _2007, 2008: _2008, 2009: _2009, 2010: _2010, 2011: _2011, 2012: _2012}'"
      ]
     },
     "execution_count": 6,
     "metadata": {},
     "output_type": "execute_result"
    }
   ],
   "source": [
    "js_source_array = str(dict_of_sources).replace(\"'\", \"\")\n",
    "js_source_array"
   ]
  },
  {
   "cell_type": "markdown",
   "id": "7232d708",
   "metadata": {},
   "source": [
    "Now we have an object that’s storing all our  ColumnDataSources, so that we can look them \n",
    "up. "
   ]
  },
  {
   "cell_type": "markdown",
   "id": "a2047b0b",
   "metadata": {},
   "source": [
    "#### Build the plot \n",
    "\n",
    "First we need to create a  Plot object. We’ll start with a basic frame, only specifying things like \n",
    "plot height, width, and ranges for the axes. "
   ]
  },
  {
   "cell_type": "code",
   "execution_count": 7,
   "id": "5c95c56a",
   "metadata": {},
   "outputs": [],
   "source": [
    "xdr  = Range1d(1, 9) \n",
    "ydr  = Range1d(20, 100) \n",
    "plot = Plot( \n",
    "    x_range=xdr, \n",
    "    y_range=ydr, \n",
    "    plot_width=800, \n",
    "    plot_height=400, \n",
    "    outline_line_color=None, \n",
    "    toolbar_location=None, \n",
    "    min_border=20, \n",
    ") \n",
    "\n"
   ]
  },
  {
   "cell_type": "code",
   "execution_count": 8,
   "id": "65147def",
   "metadata": {},
   "outputs": [],
   "source": [
    "#show(plot)"
   ]
  },
  {
   "cell_type": "markdown",
   "id": "7678cf13",
   "metadata": {},
   "source": [
    "If you were to call  show() here, what would you expect to see? Bokeh’s API works in much the \n",
    "same way as Matplotlib’s, meaning that we can imagine our digital  canvas in the same way we \n",
    "would imagine a traditional  fabric canvas. As we add new elements to our plot object, we are \n",
    "adding new layers of information onto our canvas that will appear as overlays (unless they \n",
    "explicitly reset some earlier-set parameter). So far we have only created the plot object, so if \n",
    "we were to show() it at this phase, we would get... a blank canvas! \n",
    "\n",
    "#### Build the axes \n",
    "\n",
    "Next we can make some stylistic  modifications to the plot axes (e.g. by specifying the text font, \n",
    "size, and color, and by adding labels), to make the plot look more like the one in Hans Rosling’s \n",
    "video. "
   ]
  },
  {
   "cell_type": "code",
   "execution_count": 9,
   "id": "1c3f4060",
   "metadata": {},
   "outputs": [],
   "source": [
    "from bokeh.models import SingleIntervalTicker, LinearAxis\n",
    "\n",
    "\n",
    "AXIS_FORMATS = dict(\n",
    "    minor_tick_in=None,\n",
    "    minor_tick_out=None,\n",
    "    major_tick_in=None,\n",
    "    major_label_text_font_size=\"10pt\",\n",
    "    major_label_text_font_style=\"normal\",\n",
    "    axis_label_text_font_size=\"10pt\",\n",
    "\n",
    "    axis_line_color='#AAAAAA',\n",
    "    major_tick_line_color='#AAAAAA',\n",
    "    major_label_text_color='#666666',\n",
    "\n",
    "    major_tick_line_cap=\"round\",\n",
    "    axis_line_cap=\"round\",\n",
    "    axis_line_width=1,\n",
    "    major_tick_line_width=1,\n",
    ")\n",
    "\n",
    "xaxis = LinearAxis(ticker=SingleIntervalTicker(interval=1), axis_label=\"Children per woman (total fertility)\")\n",
    "yaxis = LinearAxis(ticker=SingleIntervalTicker(interval=20), axis_label=\"Life expectancy at birth (years)\")   \n",
    "plot.add_layout(xaxis, 'below')\n",
    "plot.add_layout(yaxis, 'left')"
   ]
  },
  {
   "cell_type": "code",
   "execution_count": 10,
   "id": "6f1ce677",
   "metadata": {},
   "outputs": [],
   "source": [
    "#show(plot)"
   ]
  },
  {
   "cell_type": "markdown",
   "id": "15e7e7de",
   "metadata": {},
   "source": [
    "#### Add the background year text \n",
    "\n",
    "One of the features of Rosling’s animation is that the year appears as the text background of \n",
    "the plot. We will  add this feature to our plot first so it will be layered below all the other glyphs.  "
   ]
  },
  {
   "cell_type": "code",
   "execution_count": 11,
   "id": "5fb899f4",
   "metadata": {},
   "outputs": [
    {
     "data": {
      "text/html": [
       "<div style=\"display: table;\"><div style=\"display: table-row;\"><div style=\"display: table-cell;\"><b title=\"bokeh.models.renderers.GlyphRenderer\">GlyphRenderer</b>(</div><div style=\"display: table-cell;\">id&nbsp;=&nbsp;'1063', <span id=\"1066\" style=\"cursor: pointer;\">&hellip;)</span></div></div><div class=\"1065\" style=\"display: none;\"><div style=\"display: table-cell;\"></div><div style=\"display: table-cell;\">coordinates&nbsp;=&nbsp;None,</div></div><div class=\"1065\" style=\"display: none;\"><div style=\"display: table-cell;\"></div><div style=\"display: table-cell;\">data_source&nbsp;=&nbsp;ColumnDataSource(id='1061', ...),</div></div><div class=\"1065\" style=\"display: none;\"><div style=\"display: table-cell;\"></div><div style=\"display: table-cell;\">glyph&nbsp;=&nbsp;Text(id='1062', ...),</div></div><div class=\"1065\" style=\"display: none;\"><div style=\"display: table-cell;\"></div><div style=\"display: table-cell;\">group&nbsp;=&nbsp;None,</div></div><div class=\"1065\" style=\"display: none;\"><div style=\"display: table-cell;\"></div><div style=\"display: table-cell;\">hover_glyph&nbsp;=&nbsp;None,</div></div><div class=\"1065\" style=\"display: none;\"><div style=\"display: table-cell;\"></div><div style=\"display: table-cell;\">js_event_callbacks&nbsp;=&nbsp;{},</div></div><div class=\"1065\" style=\"display: none;\"><div style=\"display: table-cell;\"></div><div style=\"display: table-cell;\">js_property_callbacks&nbsp;=&nbsp;{},</div></div><div class=\"1065\" style=\"display: none;\"><div style=\"display: table-cell;\"></div><div style=\"display: table-cell;\">level&nbsp;=&nbsp;'glyph',</div></div><div class=\"1065\" style=\"display: none;\"><div style=\"display: table-cell;\"></div><div style=\"display: table-cell;\">muted&nbsp;=&nbsp;False,</div></div><div class=\"1065\" style=\"display: none;\"><div style=\"display: table-cell;\"></div><div style=\"display: table-cell;\">muted_glyph&nbsp;=&nbsp;'auto',</div></div><div class=\"1065\" style=\"display: none;\"><div style=\"display: table-cell;\"></div><div style=\"display: table-cell;\">name&nbsp;=&nbsp;None,</div></div><div class=\"1065\" style=\"display: none;\"><div style=\"display: table-cell;\"></div><div style=\"display: table-cell;\">nonselection_glyph&nbsp;=&nbsp;'auto',</div></div><div class=\"1065\" style=\"display: none;\"><div style=\"display: table-cell;\"></div><div style=\"display: table-cell;\">selection_glyph&nbsp;=&nbsp;'auto',</div></div><div class=\"1065\" style=\"display: none;\"><div style=\"display: table-cell;\"></div><div style=\"display: table-cell;\">subscribed_events&nbsp;=&nbsp;[],</div></div><div class=\"1065\" style=\"display: none;\"><div style=\"display: table-cell;\"></div><div style=\"display: table-cell;\">syncable&nbsp;=&nbsp;True,</div></div><div class=\"1065\" style=\"display: none;\"><div style=\"display: table-cell;\"></div><div style=\"display: table-cell;\">tags&nbsp;=&nbsp;[],</div></div><div class=\"1065\" style=\"display: none;\"><div style=\"display: table-cell;\"></div><div style=\"display: table-cell;\">view&nbsp;=&nbsp;CDSView(id='1064', ...),</div></div><div class=\"1065\" style=\"display: none;\"><div style=\"display: table-cell;\"></div><div style=\"display: table-cell;\">visible&nbsp;=&nbsp;True,</div></div><div class=\"1065\" style=\"display: none;\"><div style=\"display: table-cell;\"></div><div style=\"display: table-cell;\">x_range_name&nbsp;=&nbsp;'default',</div></div><div class=\"1065\" style=\"display: none;\"><div style=\"display: table-cell;\"></div><div style=\"display: table-cell;\">y_range_name&nbsp;=&nbsp;'default')</div></div></div>\n",
       "<script>\n",
       "(function() {\n",
       "  let expanded = false;\n",
       "  const ellipsis = document.getElementById(\"1066\");\n",
       "  ellipsis.addEventListener(\"click\", function() {\n",
       "    const rows = document.getElementsByClassName(\"1065\");\n",
       "    for (let i = 0; i < rows.length; i++) {\n",
       "      const el = rows[i];\n",
       "      el.style.display = expanded ? \"none\" : \"table-row\";\n",
       "    }\n",
       "    ellipsis.innerHTML = expanded ? \"&hellip;)\" : \"&lsaquo;&lsaquo;&lsaquo;\";\n",
       "    expanded = !expanded;\n",
       "  });\n",
       "})();\n",
       "</script>\n"
      ],
      "text/plain": [
       "GlyphRenderer(id='1063', ...)"
      ]
     },
     "execution_count": 11,
     "metadata": {},
     "output_type": "execute_result"
    }
   ],
   "source": [
    "text_source = ColumnDataSource({'year': ['%s' % years[0]]}) \n",
    "text        = Text( \n",
    "                  x=2, y=35, text='year', \n",
    "                  text_font_size='150pt', \n",
    "                  text_color='#EEEEEE' \n",
    "                  ) \n",
    "plot.add_glyph(text_source, text) \n",
    "\n",
    "#show(plot)"
   ]
  },
  {
   "cell_type": "markdown",
   "id": "74caf2f6",
   "metadata": {},
   "source": [
    "Recall that the API we are using will add elements increme ntally, layer by layer, on top of each \n",
    "other until we are finished. That means that it’s quite important that we add the elements in \n",
    "the proper order so that we end up with a result that matches Rosling’s original. \n",
    "\n",
    "#### Add the bubbles and hover \n",
    "\n",
    "Next we will add the bubbles using Bokeh’s Circle glyph. We start from the first year of data, \n",
    "which is our source that drives the circles  (the other sources will be used later).  "
   ]
  },
  {
   "cell_type": "code",
   "execution_count": 12,
   "id": "05951566",
   "metadata": {},
   "outputs": [],
   "source": [
    "# Add the circle \n",
    "renderer_source = sources['_%s' % years[0]] \n",
    "circle_glyph    = Circle( \n",
    "                    x='fertility', y='life', \n",
    "                    size='population', fill_alpha=0.8, \n",
    "                    fill_color='region_color', \n",
    "                    line_color='#7c7e71', \n",
    "                    line_width=0.5, line_alpha=0.5 \n",
    "                    ) \n",
    " \n",
    "circle_renderer = plot.add_glyph(renderer_source, circle_glyph) \n",
    "\n",
    "#show(plot)"
   ]
  },
  {
   "cell_type": "markdown",
   "id": "a62278e1",
   "metadata": {},
   "source": [
    "In the above, plot.add_glyph returns the renderer, which we can then pass to \n",
    "the HoverTool so that hover only happens for the bubbles on the page and not other glyph \n",
    "elements: "
   ]
  },
  {
   "cell_type": "code",
   "execution_count": 13,
   "id": "9f59e182",
   "metadata": {},
   "outputs": [],
   "source": [
    "# Add hover for the circle (not other plot elements) \n",
    "tooltips = \"$index\" \n",
    "plot.add_tools(HoverTool( \n",
    "                  tooltips=tooltips, \n",
    "                  renderers=[circle_renderer] \n",
    "                  ) \n",
    "              ) "
   ]
  },
  {
   "cell_type": "code",
   "execution_count": 14,
   "id": "1ccf66df",
   "metadata": {},
   "outputs": [],
   "source": [
    "#show(plot)"
   ]
  },
  {
   "cell_type": "markdown",
   "id": "4c8ff3af",
   "metadata": {},
   "source": [
    "#### Add the legend \n",
    "\n",
    "Next we will manually build a legend for our plot by adding circles  and texts to the upper-\n",
    "righthand portion: "
   ]
  },
  {
   "cell_type": "code",
   "execution_count": 15,
   "id": "520a4edd",
   "metadata": {},
   "outputs": [],
   "source": [
    "text_x = 7 \n",
    "text_y = 95 \n",
    "for i, region in enumerate(regions): \n",
    "    plot.add_glyph(Text( \n",
    "                      x=text_x, y=text_y, \n",
    "                      text=[region], \n",
    "                      text_font_size='10pt', \n",
    "                      text_color='#666666' \n",
    "                      ) \n",
    "                  ) \n",
    "    plot.add_glyph(Circle( \n",
    "                      x=text_x - 0.1, \n",
    "                      y=text_y + 2, \n",
    "                      fill_color=Spectral6[i], \n",
    "                      line_color=None, \n",
    "                      fill_alpha=0.8, \n",
    "                      size=10, \n",
    "                      ) \n",
    "                  ) \n",
    "    text_y = text_y - 5 "
   ]
  },
  {
   "cell_type": "markdown",
   "id": "e192b092",
   "metadata": {},
   "source": [
    "#### Add the slider and callback \n",
    "\n",
    "Next we add the slider widget and the JavaScript callback  code, which changes the data of \n",
    "the renderer_source (powering the bubbles / circles) and the data of \n",
    "the text_source (powering our background text). After we’ve set() the data we need \n",
    "to trigger() a change. slider, renderer_source, text_source are all available  because we \n",
    "add them as args to  Callback. "
   ]
  },
  {
   "cell_type": "code",
   "execution_count": 16,
   "id": "af7bd338",
   "metadata": {},
   "outputs": [],
   "source": [
    "# Add the slider\n",
    "code = \"\"\"\n",
    "    var year = slider.value,\n",
    "        sources = %s,\n",
    "        new_source_data = sources[year].data;\n",
    "    renderer_source.data = new_source_data;\n",
    "    text_source.data = {'year': [String(year)]};\n",
    "\"\"\" % js_source_array\n",
    "\n",
    "callback = CustomJS(args=sources, code=code)\n",
    "slider = Slider(start=years[0], end=years[-1], value=1, step=1, title=\"Year\")\n",
    "\n"
   ]
  },
  {
   "cell_type": "code",
   "execution_count": 17,
   "id": "1a8eaf25",
   "metadata": {},
   "outputs": [],
   "source": [
    "callback.args[\"renderer_source\"] = renderer_source\n",
    "callback.args[\"slider\"] = slider\n",
    "callback.args[\"text_source\"] = text_source\n",
    "slider.js_on_change(\"value\", callback)"
   ]
  },
  {
   "cell_type": "markdown",
   "id": "d50deac2",
   "metadata": {},
   "source": [
    "#### Putting all the pieces together \n",
    "\n",
    "Finally, we put the chart and the slider together in a layout, which we can display inline in a \n",
    "notebook by calling  "
   ]
  },
  {
   "cell_type": "code",
   "execution_count": 18,
   "id": "de8e905f",
   "metadata": {},
   "outputs": [],
   "source": [
    "show(layout([[plot], [slider]], sizing_mode='scale_width'))"
   ]
  },
  {
   "cell_type": "code",
   "execution_count": null,
   "id": "3a299468",
   "metadata": {},
   "outputs": [],
   "source": []
  },
  {
   "cell_type": "code",
   "execution_count": null,
   "id": "81cc9ee6",
   "metadata": {},
   "outputs": [],
   "source": []
  }
 ],
 "metadata": {
  "kernelspec": {
   "display_name": "Python 3 (ipykernel)",
   "language": "python",
   "name": "python3"
  },
  "language_info": {
   "codemirror_mode": {
    "name": "ipython",
    "version": 3
   },
   "file_extension": ".py",
   "mimetype": "text/x-python",
   "name": "python",
   "nbconvert_exporter": "python",
   "pygments_lexer": "ipython3",
   "version": "3.9.7"
  }
 },
 "nbformat": 4,
 "nbformat_minor": 5
}
